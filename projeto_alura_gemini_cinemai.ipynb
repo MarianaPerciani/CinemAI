{
  "nbformat": 4,
  "nbformat_minor": 0,
  "metadata": {
    "colab": {
      "provenance": [],
      "include_colab_link": true
    },
    "kernelspec": {
      "name": "python3",
      "display_name": "Python 3"
    },
    "language_info": {
      "name": "python"
    }
  },
  "cells": [
    {
      "cell_type": "markdown",
      "metadata": {
        "id": "view-in-github",
        "colab_type": "text"
      },
      "source": [
        "<a href=\"https://colab.research.google.com/github/MarianaPerciani/CinemAI/blob/main/projeto_alura_gemini_cinemai.ipynb\" target=\"_parent\"><img src=\"https://colab.research.google.com/assets/colab-badge.svg\" alt=\"Open In Colab\"/></a>"
      ]
    },
    {
      "cell_type": "code",
      "source": [
        "%pip -q install google-genai"
      ],
      "metadata": {
        "id": "UCCbECexLk_h"
      },
      "execution_count": 1,
      "outputs": []
    },
    {
      "cell_type": "code",
      "source": [
        "# Configura a API Key do Google Gemini\n",
        "\n",
        "import os\n",
        "from google.colab import userdata\n",
        "\n",
        "os.environ[\"GOOGLE_API_KEY\"] = userdata.get('GOOGLE_API_KEY')"
      ],
      "metadata": {
        "id": "NfCqHo1tLk8P"
      },
      "execution_count": 2,
      "outputs": []
    },
    {
      "cell_type": "code",
      "source": [
        "# Configura o cliente da SDK do Gemini\n",
        "\n",
        "from google import genai\n",
        "\n",
        "client = genai.Client()\n",
        "\n",
        "MODEL_ID = \"gemini-2.0-flash\""
      ],
      "metadata": {
        "id": "bV4w0H5TLk5g"
      },
      "execution_count": 3,
      "outputs": []
    },
    {
      "cell_type": "code",
      "source": [
        "# Instalar Framework de agentes do Google ################################################\n",
        "!pip install -q google-adk"
      ],
      "metadata": {
        "id": "a1eRPalxEnj7"
      },
      "execution_count": 4,
      "outputs": []
    },
    {
      "cell_type": "code",
      "execution_count": 5,
      "metadata": {
        "id": "aePV2bdfDeoW"
      },
      "outputs": [],
      "source": [
        "from google.adk.agents import Agent\n",
        "from google.adk.runners import Runner\n",
        "from google.adk.sessions import InMemorySessionService\n",
        "from google.adk.tools import google_search\n",
        "from google.genai import types  # Para criar conteúdos (Content e Part)\n",
        "from datetime import date\n",
        "import textwrap # Para formatar melhor a saída de texto\n",
        "from IPython.display import display, Markdown # Para exibir texto formatado no Colab\n",
        "import requests # Para fazer requisições HTTP\n",
        "import warnings\n",
        "\n",
        "warnings.filterwarnings(\"ignore\")"
      ]
    },
    {
      "cell_type": "code",
      "source": [
        "# Função auxiliar que envia uma mensagem para um agente via Runner e retorna a resposta final\n",
        "def call_agent(agent: Agent, message_text: str) -> str:\n",
        "    # Cria um serviço de sessão em memória\n",
        "    session_service = InMemorySessionService()\n",
        "    # Cria uma nova sessão (você pode personalizar os IDs conforme necessário)\n",
        "    session = session_service.create_session(app_name=agent.name, user_id=\"user1\", session_id=\"session1\")\n",
        "    # Cria um Runner para o agente\n",
        "    runner = Runner(agent=agent, app_name=agent.name, session_service=session_service)\n",
        "    # Cria o conteúdo da mensagem de entrada\n",
        "    content = types.Content(role=\"user\", parts=[types.Part(text=message_text)])\n",
        "\n",
        "    final_response = \"\"\n",
        "    # Itera assincronamente pelos eventos retornados durante a execução do agente\n",
        "    for event in runner.run(user_id=\"user1\", session_id=\"session1\", new_message=content):\n",
        "        if event.is_final_response():\n",
        "          for part in event.content.parts:\n",
        "            if part.text is not None:\n",
        "              final_response += part.text\n",
        "              final_response += \"\\n\"\n",
        "    return final_response"
      ],
      "metadata": {
        "id": "_xP4lWhsS5ko"
      },
      "execution_count": 6,
      "outputs": []
    },
    {
      "cell_type": "code",
      "source": [
        "# Função auxiliar para exibir texto formatado em Markdown no Colab\n",
        "def to_markdown(text):\n",
        "  text = text.replace('•', '  *')\n",
        "  return Markdown(textwrap.indent(text, '> ', predicate=lambda _: True))"
      ],
      "metadata": {
        "id": "8dosiodaxfFR"
      },
      "execution_count": 7,
      "outputs": []
    },
    {
      "cell_type": "code",
      "source": [
        "###############################################\n",
        "# --- Agente 1: Agente Validador Resposta --- #\n",
        "###############################################\n",
        "\n",
        "def agente_validador_resposta_booleano(pergunta, resposta):\n",
        "    buscador = Agent(\n",
        "        name=\"agente_validador_resposta\",\n",
        "        model=MODEL_ID,\n",
        "        instruction=f\"\"\"\n",
        "        Você é um assistente validador de resposta de usuário.\n",
        "        A pergunta feita foi: \"{pergunta}\".\n",
        "        A resposta do usuário foi: \"{resposta}\".\n",
        "        Sua tarefa é verificar se a resposta do usuário é válida e relevante para a pergunta.\n",
        "        Se a resposta for válida, retorne a palavra exata: VERDADEIRO.\n",
        "        Se a resposta não for válida ou não fizer sentido, retorne a palavra exata: FALSO.\n",
        "        \"\"\",\n",
        "        description=\"Agente validador de resposta (retorna booleano).\",\n",
        "    )\n",
        "\n",
        "    entrada_do_agente_validador_resposta = f\"Pergunta: {pergunta}\\nResposta: {resposta}\"\n",
        "    resposta_do_agente_validador_resposta = call_agent(buscador, entrada_do_agente_validador_resposta)\n",
        "\n",
        "    # Processa a resposta do agente para retornar um booleano Python\n",
        "    if \"VERDADEIRO\" in resposta_do_agente_validador_resposta:\n",
        "        return True\n",
        "    else:\n",
        "        return False"
      ],
      "metadata": {
        "id": "0yEf9nFFG_rI"
      },
      "execution_count": 8,
      "outputs": []
    },
    {
      "cell_type": "code",
      "source": [
        "##################################################\n",
        "# --- Agente 2: Agente de Feedback Elaborado --- #\n",
        "##################################################\n",
        "\n",
        "def agente_feedback_elaborado(pergunta, resposta):\n",
        "    agente_feedback = Agent(\n",
        "        name=\"agente_feedback_elaborado\",\n",
        "        model=MODEL_ID,\n",
        "        instruction=f\"\"\"\n",
        "        Você é um assistente de feedback de respostas dados por um usuário para preenchimento de um formulário.\n",
        "        A pergunta feita ao usuário foi: \"{pergunta}\".\n",
        "        A resposta do usuário foi: \"{resposta}\".\n",
        "        Sua tarefa é analisar a resposta do usuário e fornecer um feedback breve, amigável e útil,\n",
        "        indicando por que a resposta pode não estar correta e, se possível, dando uma instrução\n",
        "        ou sugestão para ajudar o usuário a responder corretamente, mas sem sugerir uma resposta.\n",
        "        Use um tom amigável e instruitivo com, no máximo, 150 caracteres.\n",
        "        \"\"\",\n",
        "        description=\"Agente para gerar feedback elaborado sobre respostas inválidas.\",\n",
        "    )\n",
        "\n",
        "    entrada_do_agente_feedback = f\"Pergunta: {pergunta}\\nResposta: {resposta}\"\n",
        "    resposta_do_agente_feedback = call_agent(agente_feedback, entrada_do_agente_feedback)\n",
        "    return resposta_do_agente_feedback\n",
        "\n",
        "def obter_resposta_validada_com_feedback(pergunta):\n",
        "    while True:\n",
        "        resposta_usuario = input(f\"{pergunta}\\nSua resposta: \")\n",
        "        valida = agente_validador_resposta_booleano(pergunta, resposta_usuario)\n",
        "        if valida:\n",
        "            print(\"Resposta processada.\")\n",
        "            return resposta_usuario\n",
        "        else:\n",
        "            feedback = agente_feedback_elaborado(pergunta, resposta_usuario)\n",
        "            print(feedback)\n",
        "            print(\"Por favor, tente responder novamente.\")"
      ],
      "metadata": {
        "id": "TMFCpghVIx0D"
      },
      "execution_count": 9,
      "outputs": []
    },
    {
      "cell_type": "code",
      "source": [
        "##################################################\n",
        "# --- Agente 3: Buscador de Cinemas Próximos --- #\n",
        "##################################################\n",
        "\n",
        "def agente_busca_cinema(endereco):\n",
        "    buscador_cinema = Agent(\n",
        "        name=\"agente_busca_cinema\",\n",
        "        model=MODEL_ID,\n",
        "        instruction=f\"\"\"\n",
        "        Você é um especialista em encontrar cinemas próximos a um determinado endereço.\n",
        "        O endereço do usuário é: \"{endereco}\".\n",
        "        Sua tarefa é usar a ferramenta de busca do Google (google_search) para encontrar os 10 cinemas mais próximos deste endereço.\n",
        "        Na sua resposta, liste o nome de cada cinema e sua respectiva distância do endereço do usuário.\n",
        "        \"\"\",\n",
        "        description=\"Agente que busca os 10 cinemas mais próximos de um endereço.\",\n",
        "        tools=[google_search]\n",
        "    )\n",
        "\n",
        "    entrada_do_agente_busca_cinema = f\"Endereço do usuário: {endereco}\"\n",
        "    # Executa o agente\n",
        "    resultado_busca_cinema = call_agent(buscador_cinema, entrada_do_agente_busca_cinema)\n",
        "    return resultado_busca_cinema"
      ],
      "metadata": {
        "id": "0FmJlFmFSphq"
      },
      "execution_count": 10,
      "outputs": []
    },
    {
      "cell_type": "code",
      "source": [
        "#######################################################\n",
        "# --- Agente 4: Buscador de Programação Detalhada --- #\n",
        "#######################################################\n",
        "\n",
        "def agente_busca_programacao(lista_de_cinemas, data_cinema):\n",
        "    buscador_programacao = Agent(\n",
        "        name=\"agente_busca_programacao_detalhada\",\n",
        "        model=MODEL_ID,\n",
        "        instruction=f\"\"\"\n",
        "        Você é um especialista em encontrar a programação detalhada de cinemas.\n",
        "        Você recebeu a seguinte lista de cinemas:\n",
        "        {lista_de_cinemas}\n",
        "        E a data desejada para a programação é: \"{data_cinema}\".\n",
        "\n",
        "        Sua tarefa é usar a ferramenta de busca do Google (google_search) para encontrar a programação completa de filmes para cada um dos cinemas listados na data especificada.\n",
        "\n",
        "        Para cada cinema, liste os filmes em exibição e, para cada filme, tente encontrar e listar os seguintes detalhes:\n",
        "        - Horários das sessões para a data \"{data_cinema}\".\n",
        "        - Se a sessão é dublada (DUB) ou legendada (LEG).\n",
        "\n",
        "        Organize a resposta de forma clara, listando cada cinema, os filmes em exibição naquele cinema e os detalhes de cada sessão (horário e áudio).\n",
        "        \"\"\",\n",
        "        description=\"Agente que busca a programação detalhada (horário e áudio) dos cinemas para uma data específica.\",\n",
        "        tools=[google_search]\n",
        "    )\n",
        "\n",
        "    entrada_do_agente_busca_programacao = f\"Lista de Cinemas: {lista_de_cinemas}\\nData do Cinema: {data_cinema}\"\n",
        "    # Executa o agente\n",
        "    resultado_busca_programacao = call_agent(buscador_programacao, entrada_do_agente_busca_programacao)\n",
        "    return resultado_busca_programacao\n"
      ],
      "metadata": {
        "id": "GCxLS18TUm12"
      },
      "execution_count": 11,
      "outputs": []
    },
    {
      "cell_type": "code",
      "source": [
        "###########################################\n",
        "# --- Agente 5: Filtro de Programação --- #\n",
        "###########################################\n",
        "\n",
        "def agente_filtra_programacao(programacao, preferencia_audio, periodo_preferido):\n",
        "    filtro_programacao = Agent(\n",
        "        name=\"agente_filtra_programacao\",\n",
        "        model=MODEL_ID,\n",
        "        instruction=f\"\"\"\n",
        "        Você é um especialista em filtrar a programação de cinemas com base nas preferências do usuário.\n",
        "\n",
        "        Você recebeu a seguinte programação completa dos cinemas para a data \"{data_cinema}\":\n",
        "        {programacao}\n",
        "\n",
        "        As preferências do usuário para o filme são:\n",
        "        - Preferência por áudio (dublado/legendado): \"{preferencia_audio}\"\n",
        "        - Período do dia preferido (manhã/tarde/noite/qualquer): \"{periodo_preferido}\"\n",
        "\n",
        "        Sua tarefa é analisar a programação completa e retornar apenas as opções de filmes e sessões que correspondam às preferências do usuário.\n",
        "\n",
        "        Filtre a programação da seguinte forma:\n",
        "        1. Inclua apenas as sessões que correspondam à preferência de áudio do usuário (se especificada como \"dublado\" ou \"legendado\"). Se a preferência for \"qualquer\", inclua todas as sessões.\n",
        "        2. Inclua apenas as sessões que ocorram dentro do período do dia preferido do usuário (se especificado como \"manhã\", \"tarde\" ou \"noite\"). Se a preferência for \"qualquer\", inclua todas as sessões. Considere os seguintes horários:\n",
        "           - Manhã: 06:00 - 12:00\n",
        "           - Tarde: 12:00 - 18:00\n",
        "           - Noite: 18:00 - 00:00\n",
        "\n",
        "        Retorne uma nova estrutura contendo apenas os cinemas, filmes e sessões que atendem aos critérios de filtro, incluindo o horário e o tipo de áudio (DUB/LEG) de cada sessão.\n",
        "        \"\"\",\n",
        "        description=\"Agente que filtra a programação de cinemas com base nas preferências de áudio e período do dia do usuário.\",\n",
        "        # Não precisa de ferramentas externas para este filtro básico\n",
        "    )\n",
        "\n",
        "    entrada_do_agente_filtro = f\"\"\"\n",
        "    Programação Completa: {programacao}\n",
        "    Data do Cinema: {data_cinema}\n",
        "    Preferência de Áudio: {preferencia_audio}\n",
        "    Período Preferido: {periodo_preferido}\n",
        "    \"\"\"\n",
        "    # Executa o agente\n",
        "    programacao_filtrada = call_agent(filtro_programacao, entrada_do_agente_filtro)\n",
        "    return programacao_filtrada"
      ],
      "metadata": {
        "id": "Lydcy4sMYy8B"
      },
      "execution_count": 12,
      "outputs": []
    },
    {
      "cell_type": "code",
      "source": [
        "#################################################\n",
        "# --- Agente 6: Seletor de Melhores Sessões --- #\n",
        "#################################################\n",
        "\n",
        "def agente_seleciona_melhor_sessao_final(programacao_filtrada, genero_preferido, acompanhantes):\n",
        "    seletor_sessoes_final = Agent(\n",
        "        name=\"agente_seleciona_melhor_sessao_final\",\n",
        "        model=MODEL_ID,\n",
        "        instruction=f\"\"\"\n",
        "        Você é um especialista em recomendar as melhores sessões de cinema para um usuário,\n",
        "        considerando a programação filtrada e suas preferências adicionais.\n",
        "\n",
        "        Você recebeu a seguinte programação filtrada:\n",
        "        {programacao_filtrada}\n",
        "\n",
        "        As preferências adicionais do usuário são:\n",
        "        - Gênero de filme preferido (se houver): \"{genero_preferido}\"\n",
        "        - Irá acompanhado? (sozinho/amigos/família/encontro): \"{acompanhantes}\"\n",
        "\n",
        "        Sua tarefa é analisar a programação filtrada e selecionar até 3 das melhores opções de sessões para o usuário.\n",
        "\n",
        "        Para cada filme na programação filtrada, use a ferramenta de busca do Google (google_search) para obter:\n",
        "        - Avaliações do filme: verificar nota da avaliação no Letterbox, Rotten Tomatoes e demais sites de critica.\n",
        "        - Uma breve sinopse do filme.\n",
        "        - O gênero do filme (para confirmar ou refinar a correspondência com a preferência do usuário).\n",
        "\n",
        "        Priorize as sessões da seguinte forma:\n",
        "        1. Filmes com as melhores avaliações (considere a média das avaliações encontradas).\n",
        "        2. Filmes que correspondam ao gênero preferido do usuário (se especificado).\n",
        "        3. Filmes que pareçam adequados para o tipo de companhia do usuário (interprete essa preferência com base na sinopse e gênero do filme - ex: filmes infantis para família, filmes de comédia ou ação para amigos, filmes românticos para encontro).\n",
        "\n",
        "        Retorne uma lista de até 3 opções de sessões, formatadas da seguinte maneira para cada opção:\n",
        "        - Filme: [Título do Filme]\n",
        "        - Cinema: [Nome do Cinema]\n",
        "        - Horário: [Horário da Sessão]\n",
        "        - Áudio: [DUB/LEG]\n",
        "        - Comentário: [Uma breve explicação de por que esta opção foi selecionada, considerando as preferências do usuário e as avaliações do filme, bem como descrever brevemente a sinopse.]\n",
        "        \"\"\",\n",
        "        description=\"Agente que seleciona as 3 melhores sessões de cinema com base em avaliações, gênero e companhia.\",\n",
        "        tools=[google_search]\n",
        "    )\n",
        "\n",
        "    entrada_do_agente_selecao_final = f\"\"\"\n",
        "    Programação Filtrada: {programacao_filtrada}\n",
        "    Gênero Preferido: {genero_preferido}\n",
        "    Acompanhantes: {acompanhantes}\n",
        "    \"\"\"\n",
        "    # Executa o agente\n",
        "    melhores_sessoes_final = call_agent(seletor_sessoes_final, entrada_do_agente_selecao_final)\n",
        "    return melhores_sessoes_final"
      ],
      "metadata": {
        "id": "rGFi7i98byQl"
      },
      "execution_count": 13,
      "outputs": []
    },
    {
      "cell_type": "code",
      "source": [
        "# Lista de perguntas\n",
        "lista_de_perguntas = [\n",
        "    \"Qual dia pretende ir ao cinema? Informar, preferencialmente no formato DD/MM/AAAA.\",\n",
        "    \"Tem preferência por filmes dublados ou legendados?\",\n",
        "    \"Você irá sozinho, com amigos, família ou encontro?\",\n",
        "    \"Possui algum gênero de filme preferido?\",\n",
        "    \"Tem preferência por algum período do dia?\",\n",
        "    \"Qual seu endereço? Se possível, informar bairro e cidade.\",\n",
        "]\n",
        "\n",
        "# Lista para armazenar as respostas validadas\n",
        "respostas_usuario = []\n",
        "\n",
        "# Iterando sobre a lista de perguntas e obtendo respostas validadas\n",
        "for pergunta in lista_de_perguntas:\n",
        "    resposta = obter_resposta_validada_com_feedback(pergunta)\n",
        "    respostas_usuario.append(resposta)\n",
        "\n",
        "data_cinema = respostas_usuario[0]\n",
        "preferecia_audio = respostas_usuario[1]\n",
        "acompanhantes = respostas_usuario[2]\n",
        "genero = respostas_usuario[3]\n",
        "preferencia_periodo = respostas_usuario[4]\n",
        "endereco= respostas_usuario[5]\n"
      ],
      "metadata": {
        "colab": {
          "base_uri": "https://localhost:8080/"
        },
        "id": "ymHN4z9GKzTy",
        "outputId": "a69a929f-f945-4aac-afbd-e0ae73284466"
      },
      "execution_count": 14,
      "outputs": [
        {
          "output_type": "stream",
          "name": "stdout",
          "text": [
            "Qual dia pretende ir ao cinema? Informar, preferencialmente no formato DD/MM/AAAA.\n",
            "Sua resposta: 18/05/2025\n",
            "Resposta processada.\n",
            "Tem preferência por filmes dublados ou legendados?\n",
            "Sua resposta: legendado\n",
            "Resposta processada.\n",
            "Você irá sozinho, com amigos, família ou encontro?\n",
            "Sua resposta: com minha família\n",
            "Resposta processada.\n",
            "Possui algum gênero de filme preferido?\n",
            "Sua resposta: comédia\n",
            "Resposta processada.\n",
            "Tem preferência por algum período do dia?\n",
            "Sua resposta: após almoço e antes de anoitecer\n",
            "Resposta processada.\n",
            "Qual seu endereço? Se possível, informar bairro e cidade.\n",
            "Sua resposta: vila mariana, são paulo\n",
            "Resposta processada.\n"
          ]
        }
      ]
    },
    {
      "cell_type": "code",
      "source": [
        "cinemas_proximos = agente_busca_cinema(endereco)\n",
        "#display(to_markdown(cinemas_proximos))"
      ],
      "metadata": {
        "id": "u-RKbBCPS4jg"
      },
      "execution_count": 15,
      "outputs": []
    },
    {
      "cell_type": "code",
      "source": [
        "programacao = agente_busca_programacao(cinemas_proximos, data_cinema)\n",
        "#display(to_markdown(programacao))"
      ],
      "metadata": {
        "id": "rCxtqaJKUxOm"
      },
      "execution_count": 16,
      "outputs": []
    },
    {
      "cell_type": "code",
      "source": [
        "programacao_filtrada = agente_filtra_programacao(programacao, preferecia_audio, preferencia_periodo)\n",
        "#display(to_markdown(programacao_filtrada))"
      ],
      "metadata": {
        "id": "J7U3MtbHaL0O"
      },
      "execution_count": 17,
      "outputs": []
    },
    {
      "cell_type": "code",
      "source": [
        "sessoes_selecionadas = agente_seleciona_melhor_sessao_final(programacao_filtrada, genero, acompanhantes)\n",
        "display(to_markdown(sessoes_selecionadas))"
      ],
      "metadata": {
        "colab": {
          "base_uri": "https://localhost:8080/",
          "height": 575
        },
        "id": "-pU6LZj0cL83",
        "outputId": "45c0d75d-128d-418e-9f51-089d99f30e12"
      },
      "execution_count": 18,
      "outputs": [
        {
          "output_type": "display_data",
          "data": {
            "text/plain": [
              "<IPython.core.display.Markdown object>"
            ],
            "text/markdown": "> Okay, com base na programação filtrada e nas suas preferências (comédia para assistir com a família), vou procurar as melhores opções de filmes.\n> \n> \n> Com base nas informações que encontrei, aqui estão as 3 melhores opções de sessões para você e sua família, considerando que você prefere comédia e um filme adequado para assistir em família:\n> \n> *   **Filme:** Detetive Chinatown: O Mistério de 1900\n> *   **Cinema:** Cinemark Shopping Metrô Santa Cruz\n> *   **Horário:** 16:50\n> *   **Áudio:** LEG\n> *   **Comentário:** Este filme é uma comédia de mistério que pode agradar a família toda. A sinopse indica uma história envolvente com toques de humor, e a classificação etária (12 anos) sugere que é adequado para crianças mais velhas e adolescentes. As avaliações indicam uma média de 3.5/5, o que sugere que é um filme divertido, embora não seja um clássico.\n> \n> *   **Filme:** Karatê Kid Lendas\n> *   **Cinema:** Cinemark Shopping Metrô Santa Cruz\n> *   **Horário:** 17:40\n> *   **Áudio:** LEG\n> *   **Comentário:** Este filme parece ser uma opção nostálgica e revigorante para toda a família. A história de um jovem prodígio do kung fu que se muda para Nova York pode atrair tanto crianças quanto adultos. As críticas destacam que não é necessário conhecer os filmes anteriores ou a série Cobra Kai para aproveitar este filme, tornando-o acessível para todos. Além disso, a combinação de Jackie Chan e Ralph Macchio no elenco pode trazer um toque especial para os fãs dos filmes originais.\n> \n> *   **Filme:** Pequenas Coisas Como Estas\n> *   **Cinema:** Cinema Reserva Cultural São Paulo\n> *   **Horário:** 17:10\n> *   **Áudio:** LEG\n> *   **Comentário:** Este filme pode ser uma boa escolha se você procura algo um pouco mais profundo e emocionante para assistir com a família. A história de Bill Furlong, um vendedor de carvão que faz uma descoberta perturbadora, pode gerar discussões importantes sobre valores e consciência. Embora não seja uma comédia, pode ser uma experiência enriquecedora para compartilhar com a família.\n"
          },
          "metadata": {}
        }
      ]
    }
  ]
}